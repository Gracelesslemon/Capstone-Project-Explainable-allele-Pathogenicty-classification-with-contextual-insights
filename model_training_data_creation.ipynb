{
 "cells": [
  {
   "cell_type": "code",
   "execution_count": null,
   "id": "418a5f38",
   "metadata": {},
   "outputs": [],
   "source": [
    "import duckdb\n",
    "import numpy\n",
    "import pandas as pd"
   ]
  },
  {
   "cell_type": "code",
   "execution_count": null,
   "id": "39c736e9",
   "metadata": {},
   "outputs": [],
   "source": [
    "pd.set_option('display.max_colwidth', None)  \n",
    "pd.set_option('display.expand_frame_repr', False)  \n",
    "pd.set_option('display.max_columns', None)"
   ]
  },
  {
   "cell_type": "code",
   "execution_count": null,
   "id": "53bfa00e",
   "metadata": {},
   "outputs": [],
   "source": [
    "con = duckdb.connect(r\"C:\\Users\\vigne\\Desktop\\Capstone\\Datasets\\Capstone_data_sql.duckdb\")"
   ]
  },
  {
   "cell_type": "code",
   "execution_count": null,
   "id": "b1e7b61e",
   "metadata": {},
   "outputs": [],
   "source": [
    "allele_md= con.execute(\"select AlleleID,GeneID,ClinicalSignificance,Origin,Chromosome,ReviewStatus,PositionVCF,ReferenceAlleleVCF,AlternateAlleleVCF,Category,MC  from allele\").fetchdf()\n",
    "\n",
    "con.close()"
   ]
  },
  {
   "cell_type": "code",
   "execution_count": null,
   "id": "10fa7627",
   "metadata": {},
   "outputs": [],
   "source": [
    "allele_md.rename(columns = {\"Category\" : \"VariantGeneRelation\"},inplace = True)\n",
    "\n",
    "# Drop rows where PositionVCF == -1 (2)\n",
    "allele_md = allele_md[allele_md['PositionVCF'] != -1]\n",
    "# Drop rows with ambiguous  alt alleles (8)\n",
    "allele_md = allele_md[allele_md['AlternateAlleleVCF'].isin(['A', 'T', 'G', 'C'])]\n",
    "# Drop row where chromosome is not found (only 1)\n",
    "allele_md = allele_md[allele_md['Chromosome'] != 'Un']\n",
    "allele_md.drop(\"PositionVCF\",axis = 1 , inplace = True)\n"
   ]
  },
  {
   "cell_type": "markdown",
   "id": "3603f1f8",
   "metadata": {},
   "source": [
    "# Filtering data"
   ]
  },
  {
   "cell_type": "markdown",
   "id": "6fc92492",
   "metadata": {},
   "source": [
    "### Based on clinical significance.\n",
    "-  retaining only pathogenic , pathogenic with modifiers , benign , benign with modifiers → 39 labels → one hot encoding (patho 1).\n",
    "- 3059288 -> 1320719"
   ]
  },
  {
   "cell_type": "code",
   "execution_count": null,
   "id": "2c74cde6",
   "metadata": {},
   "outputs": [],
   "source": [
    "\n",
    "pathogenic_labels = [\n",
    "    \"Pathogenic\",\n",
    "    \"Likely pathogenic\",\n",
    "    \"Pathogenic/Likely pathogenic\",\n",
    "    \"Pathogenic/Likely pathogenic/Pathogenic, low penetrance\",\n",
    "    \"Pathogenic/Pathogenic, low penetrance; other\",\n",
    "    \"Pathogenic/Likely pathogenic/Pathogenic, low penetrance; other\",\n",
    "    \"Likely pathogenic, low penetrance\",\n",
    "    # Pathogenic with modifiers\n",
    "    \"Pathogenic; risk factor\",\n",
    "    \"Pathogenic; other\",\n",
    "    \"Pathogenic; Affects\",\n",
    "    \"Pathogenic; drug response\",\n",
    "    \"Pathogenic; association\",\n",
    "    \"Pathogenic; confers sensitivity\",\n",
    "    \"Pathogenic; association; protective\",\n",
    "    \"Likely pathogenic; other\",\n",
    "    \"Likely pathogenic; drug response\",\n",
    "    \"Likely pathogenic; risk factor\",\n",
    "    \"Likely pathogenic; Affects\",\n",
    "    \"Likely pathogenic; association\"\n",
    "]\n",
    "\n",
    "benign_labels = [\n",
    "    \"Benign\",\n",
    "    \"Likely benign\",\n",
    "    \"Benign/Likely benign\",\n",
    "    # Benign with modifiers\n",
    "    \"Benign; drug response\",\n",
    "    \"Benign; risk factor\",\n",
    "    \"Benign; other\",\n",
    "    \"Benign; protective\",\n",
    "    \"Benign; association\",\n",
    "    \"Benign; Affects\",\n",
    "    \"Benign; confers sensitivity\",\n",
    "    \"Likely benign; drug response\",\n",
    "    \"Likely benign; other\",\n",
    "    \"Likely benign; protective\",\n",
    "    \"Likely benign; risk factor\",\n",
    "    \"Likely benign; Affects\",\n",
    "    \"Likely benign; association\",\n",
    "    \"Benign/Likely benign; other\",\n",
    "    \"Benign/Likely benign; drug response\",\n",
    "    \"Benign/Likely benign; other; risk factor\",\n",
    "    \"Benign/Likely benign; risk factor\"\n",
    "]\n",
    "\n",
    "\n",
    "label_map = {label: 1 for label in pathogenic_labels}\n",
    "label_map.update({label: 0 for label in benign_labels})\n",
    "\n",
    "allele_md = allele_md[allele_md['ClinicalSignificance'].isin(label_map.keys())].copy()\n",
    "allele_md['ClinicalSignificance'] = allele_md['ClinicalSignificance'].map(label_map)"
   ]
  },
  {
   "cell_type": "markdown",
   "id": "144a8866",
   "metadata": {},
   "source": [
    "### Based on Review Status:\n",
    "- 5 unique labels\n",
    "    ```criteria provided, multiple submitters, no conflicts : 288542 \n",
    "    criteria provided, single submitter : 973139 \n",
    "    no assertion criteria provided : 49527 \n",
    "    reviewed by expert panel : 9492 \n",
    "    practice guidline : 19\n",
    "- dropping :  no assertion criteria provided\n",
    "- final length : 1271192"
   ]
  },
  {
   "cell_type": "code",
   "execution_count": null,
   "id": "e6627d30",
   "metadata": {},
   "outputs": [],
   "source": [
    "allele_md.drop(allele_md[allele_md[\"ReviewStatus\"] == 'no assertion criteria provided'].index, inplace=True)\n",
    "allele_md.drop(['ReviewStatus'],axis = 1,inplace = True)"
   ]
  }
 ],
 "metadata": {
  "language_info": {
   "name": "python"
  }
 },
 "nbformat": 4,
 "nbformat_minor": 5
}
