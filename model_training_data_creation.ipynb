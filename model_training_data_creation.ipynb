{
 "cells": [
  {
   "cell_type": "code",
   "execution_count": null,
   "id": "418a5f38",
   "metadata": {},
   "outputs": [],
   "source": [
    "import duckdb\n",
    "import numpy\n",
    "import pandas as pd"
   ]
  },
  {
   "cell_type": "code",
   "execution_count": null,
   "id": "39c736e9",
   "metadata": {},
   "outputs": [],
   "source": [
    "pd.set_option('display.max_colwidth', None)  \n",
    "pd.set_option('display.expand_frame_repr', False)  \n",
    "pd.set_option('display.max_columns', None)"
   ]
  },
  {
   "cell_type": "code",
   "execution_count": null,
   "id": "53bfa00e",
   "metadata": {},
   "outputs": [],
   "source": [
    "con = duckdb.connect(r\"C:\\Users\\vigne\\Desktop\\Capstone\\Datasets\\Capstone_data_sql.duckdb\")"
   ]
  },
  {
   "cell_type": "code",
   "execution_count": null,
   "id": "b1e7b61e",
   "metadata": {},
   "outputs": [],
   "source": [
    "allele_md= con.execute(\"select AlleleID,GeneID,ClinicalSignificance,Origin,Chromosome,ReviewStatus,PositionVCF,ReferenceAlleleVCF,AlternateAlleleVCF,Category,MC  from allele\").fetchdf()\n",
    "\n",
    "con.close()"
   ]
  },
  {
   "cell_type": "code",
   "execution_count": null,
   "id": "10fa7627",
   "metadata": {},
   "outputs": [],
   "source": [
    "allele_md.rename(columns = {\"Category\" : \"VariantGeneRelation\"},inplace = True)\n",
    "\n",
    "# Drop rows where PositionVCF == -1 (2)\n",
    "allele_md = allele_md[allele_md['PositionVCF'] != -1]\n",
    "# Drop rows with ambiguous  alt alleles (8)\n",
    "allele_md = allele_md[allele_md['AlternateAlleleVCF'].isin(['A', 'T', 'G', 'C'])]\n",
    "# Drop row where chromosome is not found (only 1)\n",
    "allele_md = allele_md[allele_md['Chromosome'] != 'Un']\n",
    "allele_md.drop(\"PositionVCF\",axis = 1 , inplace = True)\n"
   ]
  }
 ],
 "metadata": {
  "language_info": {
   "name": "python"
  }
 },
 "nbformat": 4,
 "nbformat_minor": 5
}
