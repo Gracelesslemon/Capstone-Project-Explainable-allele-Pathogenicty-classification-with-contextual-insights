{
 "cells": [
  {
   "cell_type": "code",
   "execution_count": null,
   "id": "418a5f38",
   "metadata": {},
   "outputs": [],
   "source": [
    "import duckdb\n",
    "import numpy\n",
    "import pandas as pd"
   ]
  },
  {
   "cell_type": "code",
   "execution_count": null,
   "id": "39c736e9",
   "metadata": {},
   "outputs": [],
   "source": [
    "pd.set_option('display.max_colwidth', None)  \n",
    "pd.set_option('display.expand_frame_repr', False)  \n",
    "pd.set_option('display.max_columns', None)"
   ]
  },
  {
   "cell_type": "code",
   "execution_count": null,
   "id": "53bfa00e",
   "metadata": {},
   "outputs": [],
   "source": [
    "con = duckdb.connect(r\"C:\\Users\\vigne\\Desktop\\Capstone\\Datasets\\Capstone_data_sql.duckdb\")"
   ]
  },
  {
   "cell_type": "code",
   "execution_count": null,
   "id": "b1e7b61e",
   "metadata": {},
   "outputs": [],
   "source": [
    "allele_md= con.execute(\"select AlleleID,GeneID,ClinicalSignificance,Origin,Chromosome,ReviewStatus,PositionVCF,ReferenceAlleleVCF,AlternateAlleleVCF,Category,MC  from allele\").fetchdf()\n",
    "\n",
    "con.close()"
   ]
  },
  {
   "cell_type": "code",
   "execution_count": null,
   "id": "10fa7627",
   "metadata": {},
   "outputs": [],
   "source": [
    "allele_md.rename(columns = {\"Category\" : \"VariantGeneRelation\"},inplace = True)\n",
    "\n",
    "# Drop rows where PositionVCF == -1 (2)\n",
    "allele_md = allele_md[allele_md['PositionVCF'] != -1]\n",
    "# Drop rows with ambiguous  alt alleles (8)\n",
    "allele_md = allele_md[allele_md['AlternateAlleleVCF'].isin(['A', 'T', 'G', 'C'])]\n",
    "# Drop row where chromosome is not found (only 1)\n",
    "allele_md = allele_md[allele_md['Chromosome'] != 'Un']\n",
    "allele_md.drop(\"PositionVCF\",axis = 1 , inplace = True)\n"
   ]
  },
  {
   "cell_type": "markdown",
   "id": "3603f1f8",
   "metadata": {},
   "source": [
    "# Filtering data"
   ]
  },
  {
   "cell_type": "markdown",
   "id": "6fc92492",
   "metadata": {},
   "source": [
    "### Based on clinical significance.\n",
    "-  retaining only pathogenic , pathogenic with modifiers , benign , benign with modifiers → 39 labels → one hot encoding (patho 1).\n",
    "- 3059288 -> 1320719"
   ]
  },
  {
   "cell_type": "code",
   "execution_count": null,
   "id": "2c74cde6",
   "metadata": {},
   "outputs": [],
   "source": [
    "\n",
    "pathogenic_labels = [\n",
    "    \"Pathogenic\",\n",
    "    \"Likely pathogenic\",\n",
    "    \"Pathogenic/Likely pathogenic\",\n",
    "    \"Pathogenic/Likely pathogenic/Pathogenic, low penetrance\",\n",
    "    \"Pathogenic/Pathogenic, low penetrance; other\",\n",
    "    \"Pathogenic/Likely pathogenic/Pathogenic, low penetrance; other\",\n",
    "    \"Likely pathogenic, low penetrance\",\n",
    "    # Pathogenic with modifiers\n",
    "    \"Pathogenic; risk factor\",\n",
    "    \"Pathogenic; other\",\n",
    "    \"Pathogenic; Affects\",\n",
    "    \"Pathogenic; drug response\",\n",
    "    \"Pathogenic; association\",\n",
    "    \"Pathogenic; confers sensitivity\",\n",
    "    \"Pathogenic; association; protective\",\n",
    "    \"Likely pathogenic; other\",\n",
    "    \"Likely pathogenic; drug response\",\n",
    "    \"Likely pathogenic; risk factor\",\n",
    "    \"Likely pathogenic; Affects\",\n",
    "    \"Likely pathogenic; association\"\n",
    "]\n",
    "\n",
    "benign_labels = [\n",
    "    \"Benign\",\n",
    "    \"Likely benign\",\n",
    "    \"Benign/Likely benign\",\n",
    "    # Benign with modifiers\n",
    "    \"Benign; drug response\",\n",
    "    \"Benign; risk factor\",\n",
    "    \"Benign; other\",\n",
    "    \"Benign; protective\",\n",
    "    \"Benign; association\",\n",
    "    \"Benign; Affects\",\n",
    "    \"Benign; confers sensitivity\",\n",
    "    \"Likely benign; drug response\",\n",
    "    \"Likely benign; other\",\n",
    "    \"Likely benign; protective\",\n",
    "    \"Likely benign; risk factor\",\n",
    "    \"Likely benign; Affects\",\n",
    "    \"Likely benign; association\",\n",
    "    \"Benign/Likely benign; other\",\n",
    "    \"Benign/Likely benign; drug response\",\n",
    "    \"Benign/Likely benign; other; risk factor\",\n",
    "    \"Benign/Likely benign; risk factor\"\n",
    "]\n",
    "\n",
    "\n",
    "label_map = {label: 1 for label in pathogenic_labels}\n",
    "label_map.update({label: 0 for label in benign_labels})\n",
    "\n",
    "allele_md = allele_md[allele_md['ClinicalSignificance'].isin(label_map.keys())].copy()\n",
    "allele_md['ClinicalSignificance'] = allele_md['ClinicalSignificance'].map(label_map)"
   ]
  },
  {
   "cell_type": "markdown",
   "id": "144a8866",
   "metadata": {},
   "source": [
    "### Based on Review Status:\n",
    "- 5 unique labels\n",
    "    ```criteria provided, multiple submitters, no conflicts : 288542 \n",
    "    criteria provided, single submitter : 973139 \n",
    "    no assertion criteria provided : 49527 \n",
    "    reviewed by expert panel : 9492 \n",
    "    practice guidline : 19\n",
    "- dropping :  no assertion criteria provided\n",
    "- final length : 1271192"
   ]
  },
  {
   "cell_type": "code",
   "execution_count": null,
   "id": "e6627d30",
   "metadata": {},
   "outputs": [],
   "source": [
    "allele_md.drop(allele_md[allele_md[\"ReviewStatus\"] == 'no assertion criteria provided'].index, inplace=True)\n",
    "allele_md.drop(['ReviewStatus'],axis = 1,inplace = True)"
   ]
  },
  {
   "cell_type": "markdown",
   "id": "5bc757d1",
   "metadata": {},
   "source": [
    "### Multi-hot encoding of Molecular consequence column.\n",
    "**The unique values are:**\n",
    "- High Impact (Likely Pathogenic):\n",
    "    -  nonsense - Creates stop codon\n",
    "    - splice_donor_variant - Disrupts splicing\n",
    "    - splice_acceptor_variant - Disrupts splicing\n",
    "    - initiator_codon_variant - Affects translation start\n",
    "    - stop_lost - Removes natural stop codon\n",
    "\n",
    "- Moderate Impact:\n",
    "    - missense_variant - Changes amino acid\n",
    "    - 5_prime_UTR_variant - Affects regulation/translation\n",
    "    - 3_prime_UTR_variant - Affects regulation/stability\n",
    "\n",
    "- Low Impact (Likely Benign):\n",
    "    - synonymous_variant - Silent change\n",
    "    - intron_variant - Usually neutral\n",
    "    - non-coding_transcript_variant - Variable impact\n",
    "    - genic_upstream_transcript_variant - Distant regulatory\n",
    "    - genic_downstream_transcript_variant - Distant regulatory\n",
    "    - no_sequence_alteration - No change\n",
    "```\n",
    "\n",
    "\n",
    "array(['nonsense', 'non-coding_transcript_variant', 'missense_variant',\n",
    "       'intron_variant', '5_prime_UTR_variant', 'splice_donor_variant',\n",
    "       'synonymous_variant', 'splice_acceptor_variant',\n",
    "       'initiator_codon_variant', '3_prime_UTR_variant',\n",
    "       'no_sequence_alteration', 'stop_lost',\n",
    "       'genic_upstream_transcript_variant',\n",
    "       'genic_downstream_transcript_variant'], dtype=object)"
   ]
  },
  {
   "cell_type": "code",
   "execution_count": null,
   "id": "d960f82e",
   "metadata": {},
   "outputs": [],
   "source": [
    "allele_md['MC'] = allele_md['MC'].str.replace(r'SO:\\d+\\|', '', regex=True)\n",
    "unique_MC = allele_md['MC'].str.split(',').explode().dropna().unique() "
   ]
  },
  {
   "cell_type": "code",
   "execution_count": null,
   "id": "5ccd82f8",
   "metadata": {},
   "outputs": [],
   "source": [
    "for variant in unique_MC:\n",
    "    allele_md[f'has_MC_{variant}'] = allele_md['MC'].str.contains(variant, na=False).astype(int)"
   ]
  },
  {
   "cell_type": "code",
   "execution_count": null,
   "id": "c1e635e4",
   "metadata": {},
   "outputs": [],
   "source": [
    "allele_md.drop(['MC'],axis = 1,inplace = True)"
   ]
  },
  {
   "cell_type": "markdown",
   "id": "437054e5",
   "metadata": {},
   "source": [
    "###  Multi-hot encoding of Origin column\n",
    "**The unique values are:**\n",
    "- High Clinical Relevance:\n",
    "\n",
    "    - de novo - New mutation, often more concerning\n",
    "    - maternal/paternal - Inheritance pattern matters for some conditions\n",
    "\n",
    "- Moderate Relevance:\n",
    "\n",
    "    - germline - Constitutional variant\n",
    "    - inherited - Familial variant\n",
    "    - biparental - Both parents contribute\n",
    "\n",
    "- Low/Neutral:\n",
    "\n",
    "    - unknown, not-reported, tested-inconclusive - Lack of information\n",
    "    - not applicable - Administrative\n",
    "\n",
    "array(['germline', 'biparental', 'unknown', 'maternal', 'paternal',\n",
    "       'inherited', 'de novo', 'not applicable', 'tested-inconclusive',\n",
    "       'uniparental', 'not-reported'], dtype=object)"
   ]
  },
  {
   "cell_type": "code",
   "execution_count": null,
   "id": "2ad3874f",
   "metadata": {},
   "outputs": [],
   "source": [
    "origin_types = allele_md['Origin'].str.split(';').explode().dropna().unique()"
   ]
  },
  {
   "cell_type": "code",
   "execution_count": null,
   "id": "80adf9b3",
   "metadata": {},
   "outputs": [],
   "source": [
    "for origin in origin_types:\n",
    "        allele_md[f'has_Origin_{origin}'] = allele_md['Origin'].str.contains(origin, na=False).astype(int)\n",
    "    \n",
    "    # Drop original column\n",
    "allele_md = allele_md.drop(['Origin'], axis=1)"
   ]
  }
 ],
 "metadata": {
  "language_info": {
   "name": "python"
  }
 },
 "nbformat": 4,
 "nbformat_minor": 5
}
