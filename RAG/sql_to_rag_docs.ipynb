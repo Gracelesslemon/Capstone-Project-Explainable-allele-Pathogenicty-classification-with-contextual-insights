{
 "cells": [
  {
   "cell_type": "code",
   "execution_count": null,
   "id": "295a5867",
   "metadata": {},
   "outputs": [],
   "source": [
    "import pandas as pd\n",
    "import duckdb \n",
    "import pickle\n",
    "from tqdm import tqdm\n",
    "import shutil"
   ]
  },
  {
   "cell_type": "code",
   "execution_count": null,
   "id": "e638dc3e",
   "metadata": {},
   "outputs": [],
   "source": [
    "pd.set_option('display.max_colwidth', None)  \n",
    "pd.set_option('display.expand_frame_repr', False)  \n",
    "pd.set_option('display.max_columns', None)"
   ]
  },
  {
   "cell_type": "code",
   "execution_count": null,
   "id": "c1118fcb",
   "metadata": {},
   "outputs": [],
   "source": [
    "base_path = \"/kaggle/input/preprocessed-capstone-data-3/data\"\n",
    "\n",
    "gene_df = pd.read_csv(f\"{base_path}/gene_df.tsv\", sep=\"\\t\")\n",
    "allele_df = pd.read_csv(f\"{base_path}/allele_df.tsv\", sep=\"\\t\")\n",
    "hgvs4variation_df = pd.read_csv(f\"{base_path}/hgvs4variation_df.tsv\", sep=\"\\t\")\n",
    "cross_references_df = pd.read_csv(f\"{base_path}/cross_references_df.tsv\", sep=\"\\t\")\n",
    "organization_summary_df = pd.read_csv(f\"{base_path}/organization_summary_df_1.tsv\", sep=\"\\t\")\n",
    "submission_summary_df = pd.read_csv(f\"{base_path}/submission_summary_df.tsv\", sep=\"\\t\")\n",
    "summary_of_conflicting_interpretations_df = pd.read_csv(f\"{base_path}/summary_of_conflicting_interpretations_df.tsv\", sep=\"\\t\")\n",
    "var_citations_df = pd.read_csv(f\"{base_path}/var_citations_df.tsv\", sep=\"\\t\")"
   ]
  },
  {
   "cell_type": "code",
   "execution_count": null,
   "id": "680e60f6",
   "metadata": {},
   "outputs": [],
   "source": [
    "gene_list = []\n",
    "for _, i in gene_df.iterrows():\n",
    "    gene_disease = i[\"GeneLevelDisease\"]\n",
    "    \n",
    "    if gene_disease.strip().lower() in [\"\", \"no gene-disease association has been submitted to clinvar for this gene\"]:\n",
    "        disease_sentence = \"No gene-disease association has been submitted to ClinVar for this gene\"\n",
    "    else:\n",
    "        disease_sentence = f\"This gene has been associated with: {gene_disease}\"\n",
    "\n",
    "    content_lines = [\n",
    "        f\"{i['GeneSymbol']} is the gene symbol, and its full name is {i['GeneName']}.\",\n",
    "        f\"{disease_sentence}.\".strip()\n",
    "    ]\n",
    "    doc = {\n",
    "        'type': 'gene',\n",
    "        'metadata': {\n",
    "            'GeneID': i[\"GeneID\"]\n",
    "        },\n",
    "        'page_content': \"\\n\".join(content_lines)\n",
    "    }\n",
    "\n",
    "    gene_list.append(doc)"
   ]
  }
 ],
 "metadata": {
  "language_info": {
   "name": "python"
  }
 },
 "nbformat": 4,
 "nbformat_minor": 5
}
