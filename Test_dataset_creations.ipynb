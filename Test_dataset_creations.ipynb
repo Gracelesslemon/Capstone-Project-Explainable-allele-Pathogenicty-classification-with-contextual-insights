{
 "cells": [
  {
   "cell_type": "code",
   "execution_count": 1,
   "id": "d98ba626",
   "metadata": {},
   "outputs": [],
   "source": [
    "import duckdb"
   ]
  },
  {
   "cell_type": "code",
   "execution_count": 2,
   "id": "c9e1de3c",
   "metadata": {},
   "outputs": [],
   "source": [
    "con = duckdb.connect(r\"C:\\Users\\vigne\\Desktop\\Capstone_old\\datasets\\Capstone_data_sql.duckdb\")"
   ]
  },
  {
   "cell_type": "code",
   "execution_count": 3,
   "id": "af5eca7c",
   "metadata": {},
   "outputs": [
    {
     "data": {
      "text/plain": [
       "[('allele',),\n",
       " ('cross_references',),\n",
       " ('gene',),\n",
       " ('hgvs4variation',),\n",
       " ('organization_summary',),\n",
       " ('submission_summary',),\n",
       " ('summary_of_conflicting_interpretations',),\n",
       " ('var_citations',)]"
      ]
     },
     "execution_count": 3,
     "metadata": {},
     "output_type": "execute_result"
    }
   ],
   "source": [
    "con.execute(\"show tables\").fetchall()"
   ]
  },
  {
   "cell_type": "code",
   "execution_count": 4,
   "id": "5fd4e89d",
   "metadata": {},
   "outputs": [],
   "source": [
    "df = con.execute(\"select * from allele\").fetchdf()"
   ]
  },
  {
   "cell_type": "code",
   "execution_count": 5,
   "id": "40e38270",
   "metadata": {},
   "outputs": [],
   "source": [
    "df.rename(columns={\"Category\": \"VariantGeneRelation\"}, inplace=True)"
   ]
  },
  {
   "cell_type": "code",
   "execution_count": 6,
   "id": "2321ee82",
   "metadata": {},
   "outputs": [
    {
     "data": {
      "text/plain": [
       "Index(['AlleleID', 'HgvsNotation', 'GeneID', 'HGNCID', 'ClinicalSignificance',\n",
       "       'LastEvaluated', 'RS# (dbSNP)', 'RCVAccession', 'PhenotypeIDS',\n",
       "       'PhenotypeList', 'Origin', 'ChromosomeAccession', 'Chromosome',\n",
       "       'ReviewStatus', 'NumberSubmitters', 'TestedInGTR', 'OtherIDs',\n",
       "       'VariationID', 'PositionVCF', 'ReferenceAlleleVCF',\n",
       "       'AlternateAlleleVCF', 'GenesPerAlleleID', 'VariantGeneRelation', 'MC'],\n",
       "      dtype='object')"
      ]
     },
     "execution_count": 6,
     "metadata": {},
     "output_type": "execute_result"
    }
   ],
   "source": [
    "df.columns"
   ]
  },
  {
   "cell_type": "code",
   "execution_count": 7,
   "id": "b9703a03",
   "metadata": {},
   "outputs": [],
   "source": [
    "df = df[['AlleleID', 'MC', 'Origin', 'ReferenceAlleleVCF', \n",
    "         'AlternateAlleleVCF', 'Chromosome', 'VariantGeneRelation']]\n"
   ]
  },
  {
   "cell_type": "code",
   "execution_count": 8,
   "id": "8a4b520f",
   "metadata": {},
   "outputs": [
    {
     "data": {
      "text/html": [
       "<div>\n",
       "<style scoped>\n",
       "    .dataframe tbody tr th:only-of-type {\n",
       "        vertical-align: middle;\n",
       "    }\n",
       "\n",
       "    .dataframe tbody tr th {\n",
       "        vertical-align: top;\n",
       "    }\n",
       "\n",
       "    .dataframe thead th {\n",
       "        text-align: right;\n",
       "    }\n",
       "</style>\n",
       "<table border=\"1\" class=\"dataframe\">\n",
       "  <thead>\n",
       "    <tr style=\"text-align: right;\">\n",
       "      <th></th>\n",
       "      <th>AlleleID</th>\n",
       "      <th>MC</th>\n",
       "      <th>Origin</th>\n",
       "      <th>ReferenceAlleleVCF</th>\n",
       "      <th>AlternateAlleleVCF</th>\n",
       "      <th>Chromosome</th>\n",
       "      <th>VariantGeneRelation</th>\n",
       "    </tr>\n",
       "  </thead>\n",
       "  <tbody>\n",
       "    <tr>\n",
       "      <th>0</th>\n",
       "      <td>15043</td>\n",
       "      <td>SO:0001583|missense_variant</td>\n",
       "      <td>germline</td>\n",
       "      <td>G</td>\n",
       "      <td>A</td>\n",
       "      <td>15</td>\n",
       "      <td>within single gene</td>\n",
       "    </tr>\n",
       "    <tr>\n",
       "      <th>1</th>\n",
       "      <td>15044</td>\n",
       "      <td>SO:0001587|nonsense,SO:0001619|non-coding_tran...</td>\n",
       "      <td>germline</td>\n",
       "      <td>C</td>\n",
       "      <td>T</td>\n",
       "      <td>11</td>\n",
       "      <td>within single gene</td>\n",
       "    </tr>\n",
       "    <tr>\n",
       "      <th>2</th>\n",
       "      <td>15045</td>\n",
       "      <td>SO:0001583|missense_variant,SO:0001619|non-cod...</td>\n",
       "      <td>germline</td>\n",
       "      <td>A</td>\n",
       "      <td>G</td>\n",
       "      <td>11</td>\n",
       "      <td>within single gene</td>\n",
       "    </tr>\n",
       "    <tr>\n",
       "      <th>3</th>\n",
       "      <td>15046</td>\n",
       "      <td>SO:0001583|missense_variant,SO:0001619|non-cod...</td>\n",
       "      <td>germline;paternal</td>\n",
       "      <td>G</td>\n",
       "      <td>A</td>\n",
       "      <td>14</td>\n",
       "      <td>within single gene</td>\n",
       "    </tr>\n",
       "    <tr>\n",
       "      <th>4</th>\n",
       "      <td>15048</td>\n",
       "      <td>SO:0001583|missense_variant,SO:0001627|intron_...</td>\n",
       "      <td>biparental;germline;unknown</td>\n",
       "      <td>G</td>\n",
       "      <td>A</td>\n",
       "      <td>6</td>\n",
       "      <td>within single gene</td>\n",
       "    </tr>\n",
       "  </tbody>\n",
       "</table>\n",
       "</div>"
      ],
      "text/plain": [
       "   AlleleID                                                 MC  \\\n",
       "0     15043                        SO:0001583|missense_variant   \n",
       "1     15044  SO:0001587|nonsense,SO:0001619|non-coding_tran...   \n",
       "2     15045  SO:0001583|missense_variant,SO:0001619|non-cod...   \n",
       "3     15046  SO:0001583|missense_variant,SO:0001619|non-cod...   \n",
       "4     15048  SO:0001583|missense_variant,SO:0001627|intron_...   \n",
       "\n",
       "                        Origin ReferenceAlleleVCF AlternateAlleleVCF  \\\n",
       "0                     germline                  G                  A   \n",
       "1                     germline                  C                  T   \n",
       "2                     germline                  A                  G   \n",
       "3            germline;paternal                  G                  A   \n",
       "4  biparental;germline;unknown                  G                  A   \n",
       "\n",
       "  Chromosome VariantGeneRelation  \n",
       "0         15  within single gene  \n",
       "1         11  within single gene  \n",
       "2         11  within single gene  \n",
       "3         14  within single gene  \n",
       "4          6  within single gene  "
      ]
     },
     "execution_count": 8,
     "metadata": {},
     "output_type": "execute_result"
    }
   ],
   "source": [
    "df.head()"
   ]
  },
  {
   "cell_type": "code",
   "execution_count": 9,
   "id": "3d0affe7",
   "metadata": {},
   "outputs": [],
   "source": [
    "dfg = con.execute(\"select * from hgvs4variation\").fetchdf()"
   ]
  },
  {
   "cell_type": "code",
   "execution_count": 10,
   "id": "6c020adb",
   "metadata": {},
   "outputs": [],
   "source": [
    "dfg.drop([\"VariationID\",\"NucleotideExpression\"],inplace = True, axis = 1)\n",
    "# dropping dupe alleleID's\n",
    "dfg = dfg.drop_duplicates(subset=['AlleleID'])\n",
    "dfg['hgvs_prefix'] = dfg['NucleotideChange'].str[0]\n",
    "dfg.drop([\"NucleotideChange\"],inplace = True, axis = 1)"
   ]
  },
  {
   "cell_type": "code",
   "execution_count": 11,
   "id": "b3b13bf8",
   "metadata": {},
   "outputs": [],
   "source": [
    "dfg.rename(columns = {'hgvs_prefix':'GenomicLocationData'},inplace = True)"
   ]
  },
  {
   "cell_type": "code",
   "execution_count": 12,
   "id": "6ab3dce6",
   "metadata": {},
   "outputs": [],
   "source": [
    "final = df.merge(dfg,\n",
    "on = \"AlleleID\",\n",
    "how='left'\n",
    ")"
   ]
  },
  {
   "cell_type": "code",
   "execution_count": 13,
   "id": "8bbfac9d",
   "metadata": {},
   "outputs": [
    {
     "data": {
      "text/html": [
       "<div>\n",
       "<style scoped>\n",
       "    .dataframe tbody tr th:only-of-type {\n",
       "        vertical-align: middle;\n",
       "    }\n",
       "\n",
       "    .dataframe tbody tr th {\n",
       "        vertical-align: top;\n",
       "    }\n",
       "\n",
       "    .dataframe thead th {\n",
       "        text-align: right;\n",
       "    }\n",
       "</style>\n",
       "<table border=\"1\" class=\"dataframe\">\n",
       "  <thead>\n",
       "    <tr style=\"text-align: right;\">\n",
       "      <th></th>\n",
       "      <th>AlleleID</th>\n",
       "      <th>MC</th>\n",
       "      <th>Origin</th>\n",
       "      <th>ReferenceAlleleVCF</th>\n",
       "      <th>AlternateAlleleVCF</th>\n",
       "      <th>Chromosome</th>\n",
       "      <th>VariantGeneRelation</th>\n",
       "      <th>GenomicLocationData</th>\n",
       "    </tr>\n",
       "  </thead>\n",
       "  <tbody>\n",
       "    <tr>\n",
       "      <th>0</th>\n",
       "      <td>15043</td>\n",
       "      <td>SO:0001583|missense_variant</td>\n",
       "      <td>germline</td>\n",
       "      <td>G</td>\n",
       "      <td>A</td>\n",
       "      <td>15</td>\n",
       "      <td>within single gene</td>\n",
       "      <td>g</td>\n",
       "    </tr>\n",
       "    <tr>\n",
       "      <th>1</th>\n",
       "      <td>15044</td>\n",
       "      <td>SO:0001587|nonsense,SO:0001619|non-coding_tran...</td>\n",
       "      <td>germline</td>\n",
       "      <td>C</td>\n",
       "      <td>T</td>\n",
       "      <td>11</td>\n",
       "      <td>within single gene</td>\n",
       "      <td>g</td>\n",
       "    </tr>\n",
       "    <tr>\n",
       "      <th>2</th>\n",
       "      <td>15045</td>\n",
       "      <td>SO:0001583|missense_variant,SO:0001619|non-cod...</td>\n",
       "      <td>germline</td>\n",
       "      <td>A</td>\n",
       "      <td>G</td>\n",
       "      <td>11</td>\n",
       "      <td>within single gene</td>\n",
       "      <td>g</td>\n",
       "    </tr>\n",
       "    <tr>\n",
       "      <th>3</th>\n",
       "      <td>15046</td>\n",
       "      <td>SO:0001583|missense_variant,SO:0001619|non-cod...</td>\n",
       "      <td>germline;paternal</td>\n",
       "      <td>G</td>\n",
       "      <td>A</td>\n",
       "      <td>14</td>\n",
       "      <td>within single gene</td>\n",
       "      <td>g</td>\n",
       "    </tr>\n",
       "    <tr>\n",
       "      <th>4</th>\n",
       "      <td>15048</td>\n",
       "      <td>SO:0001583|missense_variant,SO:0001627|intron_...</td>\n",
       "      <td>biparental;germline;unknown</td>\n",
       "      <td>G</td>\n",
       "      <td>A</td>\n",
       "      <td>6</td>\n",
       "      <td>within single gene</td>\n",
       "      <td>g</td>\n",
       "    </tr>\n",
       "  </tbody>\n",
       "</table>\n",
       "</div>"
      ],
      "text/plain": [
       "   AlleleID                                                 MC  \\\n",
       "0     15043                        SO:0001583|missense_variant   \n",
       "1     15044  SO:0001587|nonsense,SO:0001619|non-coding_tran...   \n",
       "2     15045  SO:0001583|missense_variant,SO:0001619|non-cod...   \n",
       "3     15046  SO:0001583|missense_variant,SO:0001619|non-cod...   \n",
       "4     15048  SO:0001583|missense_variant,SO:0001627|intron_...   \n",
       "\n",
       "                        Origin ReferenceAlleleVCF AlternateAlleleVCF  \\\n",
       "0                     germline                  G                  A   \n",
       "1                     germline                  C                  T   \n",
       "2                     germline                  A                  G   \n",
       "3            germline;paternal                  G                  A   \n",
       "4  biparental;germline;unknown                  G                  A   \n",
       "\n",
       "  Chromosome VariantGeneRelation GenomicLocationData  \n",
       "0         15  within single gene                   g  \n",
       "1         11  within single gene                   g  \n",
       "2         11  within single gene                   g  \n",
       "3         14  within single gene                   g  \n",
       "4          6  within single gene                   g  "
      ]
     },
     "execution_count": 13,
     "metadata": {},
     "output_type": "execute_result"
    }
   ],
   "source": [
    "final.head()"
   ]
  },
  {
   "cell_type": "code",
   "execution_count": 14,
   "id": "627358df",
   "metadata": {},
   "outputs": [],
   "source": [
    "final.head(10).to_csv('batch_encoder_test.csv', index=False)\n"
   ]
  },
  {
   "cell_type": "code",
   "execution_count": 15,
   "id": "dcde55f2",
   "metadata": {},
   "outputs": [],
   "source": [
    "con.close()"
   ]
  }
 ],
 "metadata": {
  "kernelspec": {
   "display_name": "venv (3.13.3)",
   "language": "python",
   "name": "python3"
  },
  "language_info": {
   "codemirror_mode": {
    "name": "ipython",
    "version": 3
   },
   "file_extension": ".py",
   "mimetype": "text/x-python",
   "name": "python",
   "nbconvert_exporter": "python",
   "pygments_lexer": "ipython3",
   "version": "3.13.3"
  }
 },
 "nbformat": 4,
 "nbformat_minor": 5
}
