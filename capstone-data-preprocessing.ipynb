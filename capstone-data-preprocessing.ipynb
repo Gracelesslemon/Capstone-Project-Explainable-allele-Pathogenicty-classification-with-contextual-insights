{
 "cells": [
  {
   "cell_type": "code",
   "execution_count": 1,
   "metadata": {
    "_cell_guid": "b1076dfc-b9ad-4769-8c92-a6c4dae69d19",
    "_uuid": "8f2839f25d086af736a60e9eeb907d3b93b6e0e5",
    "execution": {
     "iopub.execute_input": "2025-07-25T12:33:49.182572Z",
     "iopub.status.busy": "2025-07-25T12:33:49.182282Z",
     "iopub.status.idle": "2025-07-25T12:33:57.489451Z",
     "shell.execute_reply": "2025-07-25T12:33:57.488516Z",
     "shell.execute_reply.started": "2025-07-25T12:33:49.182543Z"
    },
    "trusted": true
   },
   "outputs": [],
   "source": [
    "#~10 Minutes to run\n",
    "# import pysam\n",
    "import shutil\n",
    "import pandas as pd\n",
    "import dask.dataframe as dd"
   ]
  },
  {
   "cell_type": "code",
   "execution_count": 2,
   "metadata": {
    "execution": {
     "iopub.execute_input": "2025-07-25T12:33:57.490922Z",
     "iopub.status.busy": "2025-07-25T12:33:57.490417Z",
     "iopub.status.idle": "2025-07-25T12:33:57.495392Z",
     "shell.execute_reply": "2025-07-25T12:33:57.494401Z",
     "shell.execute_reply.started": "2025-07-25T12:33:57.490895Z"
    },
    "trusted": true
   },
   "outputs": [],
   "source": [
    "pd.set_option('display.max_colwidth', None)  \n",
    "pd.set_option('display.expand_frame_repr', False)  \n",
    "pd.set_option('display.max_columns', None)"
   ]
  },
  {
   "cell_type": "markdown",
   "metadata": {},
   "source": [
    "# Data files:\n",
    "Contains the main file and the files to be merged with it and other files that will be kept separately and merged whenever necessary."
   ]
  },
  {
   "cell_type": "code",
   "execution_count": 3,
   "metadata": {
    "_kg_hide-output": true,
    "execution": {
     "iopub.execute_input": "2025-07-25T12:33:57.498055Z",
     "iopub.status.busy": "2025-07-25T12:33:57.497760Z",
     "iopub.status.idle": "2025-07-25T12:36:36.566394Z",
     "shell.execute_reply": "2025-07-25T12:36:36.565096Z",
     "shell.execute_reply.started": "2025-07-25T12:33:57.498034Z"
    },
    "trusted": true
   },
   "outputs": [],
   "source": [
    "#Main file\n",
    "variant_summary_df = pd.read_csv(\"../input/capstone-data/all data for capstone/variant_summary.tsv\", sep=\"\\t\", low_memory=False)\n",
    "#Merged with Main file\n",
    "allele_gene_df = pd.read_csv(\"../input/capstone-data/all data for capstone/allele_gene.tsv\", sep=\"\\t\", low_memory=False)\n",
    "gene_specific_summary_df = pd.read_csv(\"../input/capstone-data/all data for capstone/gene_specific_summary.tsv\", sep=\"\\t\", low_memory=False,skiprows=1)\n",
    "gene_condition_source_id_df = pd.read_csv(\"../input/capstone-data/all data for capstone/gene_condition_source_id.tsv\", sep=\"\\t\", low_memory=False)"
   ]
  },
  {
   "cell_type": "code",
   "execution_count": 4,
   "metadata": {
    "execution": {
     "iopub.execute_input": "2025-07-25T12:36:36.570367Z",
     "iopub.status.busy": "2025-07-25T12:36:36.570107Z",
     "iopub.status.idle": "2025-07-25T12:38:47.753755Z",
     "shell.execute_reply": "2025-07-25T12:38:47.752972Z",
     "shell.execute_reply.started": "2025-07-25T12:36:36.570333Z"
    },
    "trusted": true
   },
   "outputs": [],
   "source": [
    "#Kept as separate files and merge whenever needed\n",
    "hgvs4variation_dd = dd.read_csv(\"../input/capstone-data/all data for capstone/hgvs4variation.tsv\", sep='\\t', skiprows=15)\n",
    "organization_summary_df = pd.read_csv(\"../input/capstone-data/all data for capstone/organization_summary.tsv\", sep=\"\\t\", low_memory=False)\n",
    "submission_summary_df = pd.read_csv(\"../input/capstone-data/all data for capstone/submission_summary.tsv\", sep='\\t', skiprows=18) \n",
    "summary_of_conflicting_interpretations_df = pd.read_csv(\"../input/capstone-data/all data for capstone/summary_of_conflicting_interpretations.tsv\", sep=\"\\t\", low_memory=False)\n",
    "var_citations_df = pd.read_csv(\"../input/capstone-data/all data for capstone/var_citations.tsv\", sep=\"\\t\", low_memory=False)\n",
    "cross_references_df = pd.read_csv(\"../input/capstone-data/all data for capstone/cross_references.tsv\", sep=\"\\t\", low_memory=False)"
   ]
  },
  {
   "cell_type": "markdown",
   "metadata": {},
   "source": [
    "# Processing vcf file"
   ]
  },
  {
   "cell_type": "code",
   "execution_count": null,
   "metadata": {
    "execution": {
     "iopub.execute_input": "2025-07-25T12:38:47.755805Z",
     "iopub.status.busy": "2025-07-25T12:38:47.755119Z"
    },
    "trusted": true
   },
   "outputs": [],
   "source": [
    "with open(\"/kaggle/input/capstone-data/all data for capstone/clinvar (1).vcf\", 'r') as file:\n",
    "    vcf_data = [line for line in file if not line.startswith('##')]  \n",
    "    \n",
    "header = vcf_data[0].strip().split('\\t')  \n",
    "\n",
    "data = pd.DataFrame([line.strip().split('\\t') for line in vcf_data[1:]], columns=header)\n",
    "data.drop(columns = ['#CHROM','POS','ID','REF','ALT','QUAL','FILTER'], inplace = True)\n",
    "\n",
    "retain = ['ALLELEID', 'MC', 'AF_EXAC', 'AF_ESP', 'AF_TGP']\n",
    "def parse_info(info_str):\n",
    "    items = [kv.split(\"=\", 1) for kv in info_str.split(\";\") if \"=\" in kv]\n",
    "    return {k: v for k, v in items if k in retain}\n",
    "\n",
    "# Apply to Series and expand into DataFrame\n",
    "final = data['INFO'].apply(parse_info).apply(pd.Series)"
   ]
  },
  {
   "cell_type": "markdown",
   "metadata": {},
   "source": [
    "# Processing the main file\n",
    "Processing variant_summary file"
   ]
  },
  {
   "cell_type": "code",
   "execution_count": null,
   "metadata": {
    "trusted": true
   },
   "outputs": [],
   "source": [
    "vsdf = variant_summary_df[\n",
    "    (variant_summary_df[\"Assembly\"] == \"GRCh38\") & \n",
    "    (variant_summary_df[\"Type\"] == \"single nucleotide variant\")&\n",
    "    (variant_summary_df[\"OriginSimple\"]==\"germline\")\n",
    "]"
   ]
  },
  {
   "cell_type": "code",
   "execution_count": null,
   "metadata": {
    "trusted": true
   },
   "outputs": [],
   "source": [
    "vsdf_droplist = [\"OriginSimple\",\"SCVsForAggregateGermlineClassification\",\"Type\", \n",
    "                 \"Assembly\",\"ReferenceAllele\",\"AlternateAllele\",\"Cytogenetic\",\n",
    "                 \"Guidelines\",\"SomaticClinicalImpact\",\"SomaticClinicalImpactLastEvaluated\",\n",
    "                 \"ReviewStatusClinicalImpact\",\"Oncogenicity\",\"OncogenicityLastEvaluated\",\n",
    "                 \"ReviewStatusOncogenicity\",\"SCVsForAggregateSomaticClinicalImpact\",\n",
    "                 \"SCVsForAggregateOncogenicityClassification\",\"nsv/esv (dbVar)\",\"ClinSigSimple\",\"SubmitterCategories\"]\n",
    "vsdf = vsdf.drop(columns=vsdf_droplist)"
   ]
  },
  {
   "cell_type": "markdown",
   "metadata": {},
   "source": [
    "## Merging allele_gene_df\n",
    "\n",
    "added : \n",
    "- Name : full name of the gene\n",
    "- GenesPerAlleleID : number of genes related to the allele\n",
    "- Category : type of allele-gene relationship"
   ]
  },
  {
   "cell_type": "code",
   "execution_count": null,
   "metadata": {
    "trusted": true
   },
   "outputs": [],
   "source": [
    "vsdf1 = vsdf.merge(\n",
    "    allele_gene_df[[\"#AlleleID\", \"GeneID\", \"Name\", \"GenesPerAlleleID\", \"Category\"]],\n",
    "    on=[\"#AlleleID\", \"GeneID\"],\n",
    "    how=\"left\"\n",
    ")\n",
    "vsdf1.rename(columns={\"Name_x\": \"HGVS_Notation\",\"Name_y\": \"GeneName\"}, inplace=True)\n",
    "vsdf1 = vsdf1.dropna()\n",
    "# done adding allele_gene_df"
   ]
  },
  {
   "cell_type": "markdown",
   "metadata": {},
   "source": [
    "## 2 main files:\n",
    "- Shifted towards 2 main dataframes 1 for allele information and the other for gene info\n",
    "- Can be merged when needed\n",
    "    - merge on `GeneID` "
   ]
  },
  {
   "cell_type": "code",
   "execution_count": null,
   "metadata": {
    "trusted": true
   },
   "outputs": [],
   "source": [
    "gene_df = vsdf1[[\"GeneID\", \"GeneSymbol\", \"GeneName\"]].drop_duplicates(subset=\"GeneID\")\n",
    "allele_df = vsdf1.drop(columns=[\"GeneSymbol\", \"GeneName\"])"
   ]
  },
  {
   "cell_type": "code",
   "execution_count": null,
   "metadata": {
    "trusted": true
   },
   "outputs": [],
   "source": [
    "allele_df.rename(columns = {\"#AlleleID\": \"AlleleID\"},inplace = True)"
   ]
  },
  {
   "cell_type": "markdown",
   "metadata": {},
   "source": [
    "## Merging gene_condition_source_id to gene_df \n",
    "- adding a new column called `GeneLevelDisease` to gene_df"
   ]
  },
  {
   "cell_type": "code",
   "execution_count": null,
   "metadata": {
    "trusted": true
   },
   "outputs": [],
   "source": [
    "# Group multiple disease names per GeneID into a single string\n",
    "gene_disease_grouped = (\n",
    "    gene_condition_source_id_df\n",
    "    .groupby(\"#GeneID\")[\"DiseaseName\"]\n",
    "    .apply(lambda x: \"; \".join(sorted(set(x))))\n",
    "    .reset_index()\n",
    ")\n",
    "\n",
    "# Merge with vsdf2\n",
    "gene_df = gene_df.merge(gene_disease_grouped, left_on=\"GeneID\",right_on=\"#GeneID\", how=\"left\")\n",
    "\n",
    "# Rename and fill nulls\n",
    "gene_df.rename(columns={\"DiseaseName\": \"GeneLevelDisease\"}, inplace=True)\n",
    "gene_df[\"GeneLevelDisease\"].fillna(\"No gene-disease association has been submitted to ClinVar for this gene.\", inplace=True)"
   ]
  },
  {
   "cell_type": "code",
   "execution_count": null,
   "metadata": {
    "trusted": true
   },
   "outputs": [],
   "source": [
    "gene_df = gene_df.merge(\n",
    "    gene_specific_summary_df[\n",
    "        ['GeneID', 'Total_submissions', 'Total_alleles', 'Submissions_reporting_this_gene',\n",
    "         'Alleles_reported_Pathogenic_Likely_pathogenic', 'Number_uncertain', 'Number_with_conflicts']\n",
    "    ],\n",
    "    on='GeneID',\n",
    "    how='left'\n",
    ")"
   ]
  },
  {
   "cell_type": "code",
   "execution_count": null,
   "metadata": {
    "trusted": true
   },
   "outputs": [],
   "source": [
    "gene_df[\"Submissions_reporting_this_gene\"] = pd.to_numeric(gene_df[\"Submissions_reporting_this_gene\"], errors=\"coerce\")\n",
    "gene_df[\"Alleles_reported_Pathogenic_Likely_pathogenic\"] = pd.to_numeric(gene_df[\"Alleles_reported_Pathogenic_Likely_pathogenic\"], errors=\"coerce\")\n",
    "gene_df[\"Number_uncertain\"] = pd.to_numeric(gene_df[\"Number_uncertain\"], errors=\"coerce\")\n",
    "gene_df[\"Number_with_conflicts\"] = pd.to_numeric(gene_df[\"Number_with_conflicts\"], errors=\"coerce\")"
   ]
  },
  {
   "cell_type": "markdown",
   "metadata": {},
   "source": [
    "Number of nulls: \n",
    "```\n",
    "GeneID                                               0 \n",
    "GeneSymbol                                           0\n",
    "GeneName                                             0\n",
    "#GeneID                                          13799 -> dropped\n",
    "GeneLevelDisease                                     0\n",
    "Total_submissions                                    1\n",
    "Total_alleles                                        1\n",
    "Submissions_reporting_this_gene                     70\n",
    "Alleles_reported_Pathogenic_Likely_pathogenic    10531\n",
    "Number_uncertain                                    60\n",
    "Number_with_conflicts                               60\n",
    "```\n",
    "\n",
    "- Filling numeric col with placeholder -1"
   ]
  },
  {
   "cell_type": "code",
   "execution_count": null,
   "metadata": {
    "trusted": true
   },
   "outputs": [],
   "source": [
    "gene_df.drop(columns = \"#GeneID\",inplace = True)\n",
    "gene_df.fillna(-1.0, inplace=True)\n",
    "# placeholder for floating point missing values is -1"
   ]
  },
  {
   "cell_type": "code",
   "execution_count": null,
   "metadata": {
    "trusted": true
   },
   "outputs": [],
   "source": [
    "gene_df.rename(columns={\n",
    "    'Total_submissions': 'TotalSubmissions',\n",
    "    'Total_alleles': 'TotalAlleles',\n",
    "    'Submissions_reporting_this_gene': 'SubmissionsReportingThisGene',\n",
    "    'Alleles_reported_Pathogenic_Likely_pathogenic': 'AllelesReportedPathogenicLikelyPathogenic',\n",
    "    'Number_uncertain': 'NumberUncertain',\n",
    "    'Number_with_conflicts': 'NumberWithConflicts'\n",
    "}, inplace=True)\n",
    "\n",
    "allele_df.rename(columns={\n",
    "    'HGVS_Notation': 'HgvsNotation',\n",
    "    'HGNC_ID':'HGNCID'\n",
    "}, inplace=True)\n"
   ]
  },
  {
   "cell_type": "code",
   "execution_count": null,
   "metadata": {
    "trusted": true
   },
   "outputs": [],
   "source": [
    "allele_df = allele_df.merge(AF_MC_df[['AlleleID','MC']],on = \"AlleleID\",how = 'left')\n",
    "allele_df = allele_df[~allele_df.duplicated(keep='first')].copy"
   ]
  },
  {
   "cell_type": "code",
   "execution_count": 17,
   "metadata": {
    "execution": {
     "iopub.execute_input": "2025-07-25T10:21:07.754968Z",
     "iopub.status.busy": "2025-07-25T10:21:07.754672Z",
     "iopub.status.idle": "2025-07-25T10:21:08.946744Z",
     "shell.execute_reply": "2025-07-25T10:21:08.945622Z",
     "shell.execute_reply.started": "2025-07-25T10:21:07.754944Z"
    },
    "trusted": true
   },
   "outputs": [],
   "source": [
    "del variant_summary_df,allele_gene_df,gene_specific_summary_df,gene_condition_source_id_df,vsdf"
   ]
  },
  {
   "cell_type": "code",
   "execution_count": null,
   "metadata": {
    "execution": {
     "iopub.execute_input": "2025-07-25T10:21:08.948135Z",
     "iopub.status.busy": "2025-07-25T10:21:08.947773Z",
     "iopub.status.idle": "2025-07-25T10:21:16.207799Z",
     "shell.execute_reply": "2025-07-25T10:21:16.206697Z",
     "shell.execute_reply.started": "2025-07-25T10:21:08.948081Z"
    },
    "trusted": true
   },
   "outputs": [],
   "source": [
    "final.rename(columns = {'ALLELEID':'AlleleID'},inplace = True)\n",
    "allele_df['AlleleID'] = allele_df['AlleleID'].astype(int)\n",
    "final['AlleleID'] = final['AlleleID'].astype(int)\n",
    "\n",
    "allowed_ids = set(allele_df['AlleleID'])\n",
    "\n",
    "final_fil = final[final['AlleleID'].isin(allowed_ids)]\n",
    "# final_fil.drop(columns =['rs'],inplace = True)\n",
    "\n",
    "allele_df = allele_df.merge(\n",
    "    final_fil,\n",
    "    on='AlleleID',\n",
    "    how='left'\n",
    ")\n",
    "\n",
    "final_fil[\"variant_key\"] = (\n",
    "    final_fil[\"Chromosome\"].astype(str) + \"-\" +\n",
    "    final_fil[\"Start\"].astype(str) + \"-\" +\n",
    "    final_fil[\"ReferenceAlleleVCF\"] + \"-\" +\n",
    "    final_fil[\"AlternateAlleleVCF\"]\n",
    ")\n",
    "final_fil.drop(columns = ['Chromosome','ReferenceAlleleVCF','AlternateAlleleVCF','Start'],inplace = True)"
   ]
  },
  {
   "cell_type": "code",
   "execution_count": 19,
   "metadata": {
    "execution": {
     "iopub.execute_input": "2025-07-25T10:21:16.209363Z",
     "iopub.status.busy": "2025-07-25T10:21:16.208997Z",
     "iopub.status.idle": "2025-07-25T10:24:14.125647Z",
     "shell.execute_reply": "2025-07-25T10:24:14.124444Z",
     "shell.execute_reply.started": "2025-07-25T10:21:16.209331Z"
    },
    "trusted": true
   },
   "outputs": [
    {
     "name": "stderr",
     "output_type": "stream",
     "text": [
      "/usr/local/lib/python3.11/dist-packages/dask/dataframe/io/csv.py:199: DtypeWarning: Columns (1) have mixed types. Specify dtype option on import or set low_memory=False.\n",
      "  df = reader(bio, **kwargs)\n"
     ]
    }
   ],
   "source": [
    "# Separate file for hgvs4variation \n",
    "hgvs4variation_dd = hgvs4variation_dd[hgvs4variation_dd.Assembly == 'GRCh38']\n",
    "hgvs4variation_dd = hgvs4variation_dd.drop(columns = \"Assembly\")\n",
    "hgvs4variation_df = hgvs4variation_dd.compute()\n",
    "hgvs4variation_df = hgvs4variation_df[hgvs4variation_df['Type'] != 'genomic, Haplotype']\n",
    "hgvs4variation_df.drop(columns = ['UsedForNaming','Submitted','OnRefSeqGene','#Symbol','GeneID','Type','ProteinExpression','ProteinChange'],inplace = True)\n",
    "\n",
    "allowed_pairs = set(allele_df[['AlleleID', 'VariationID']].apply(tuple, axis=1))\n",
    "\n",
    "filtered_hgvs = hgvs4variation_df[\n",
    "    hgvs4variation_df[['AlleleID', 'VariationID']].apply(tuple, axis=1).isin(allowed_pairs)\n",
    "]\n",
    "# Keys to merge on VariationID , AlleleID"
   ]
  },
  {
   "cell_type": "code",
   "execution_count": 20,
   "metadata": {
    "execution": {
     "iopub.execute_input": "2025-07-25T10:24:14.127374Z",
     "iopub.status.busy": "2025-07-25T10:24:14.126960Z",
     "iopub.status.idle": "2025-07-25T10:25:02.854022Z",
     "shell.execute_reply": "2025-07-25T10:25:02.852853Z",
     "shell.execute_reply.started": "2025-07-25T10:24:14.127335Z"
    },
    "trusted": true
   },
   "outputs": [
    {
     "name": "stderr",
     "output_type": "stream",
     "text": [
      "/tmp/ipykernel_36/455290775.py:4: FutureWarning: Setting an item of incompatible dtype is deprecated and will raise an error in a future version of pandas. Value '-1' has dtype incompatible with float64, please explicitly cast to a compatible dtype first.\n",
      "  var_citations_df.fillna(\"-1\",inplace = True) # rs , org_id\n"
     ]
    }
   ],
   "source": [
    "var_citations_df.rename(columns = {\"#AlleleID\":\"AlleleID\"},inplace = True)\n",
    "\n",
    "var_citations_df.drop(columns = [\"nsv\"],inplace = True)\n",
    "var_citations_df.fillna(\"-1\",inplace = True) # rs , org_id\n",
    "\n",
    "allowed_pairs = set(allele_df[['AlleleID', 'VariationID']].apply(tuple, axis=1))\n",
    "\n",
    "filtered_var_citations = var_citations_df[\n",
    "    var_citations_df[['AlleleID', 'VariationID']].apply(tuple, axis=1).isin(allowed_pairs)\n",
    "]\n",
    "# used to link alleleid|variationid to citation and also organization"
   ]
  },
  {
   "cell_type": "code",
   "execution_count": 21,
   "metadata": {
    "execution": {
     "iopub.execute_input": "2025-07-25T10:25:02.855625Z",
     "iopub.status.busy": "2025-07-25T10:25:02.855262Z",
     "iopub.status.idle": "2025-07-25T10:25:02.868534Z",
     "shell.execute_reply": "2025-07-25T10:25:02.867303Z",
     "shell.execute_reply.started": "2025-07-25T10:25:02.855595Z"
    },
    "trusted": true
   },
   "outputs": [],
   "source": [
    "# separate file for organization_summary_df\n",
    "organization_summary_df.drop(\n",
    "    columns = ['street address', 'city', 'country',\n",
    "               'date last submitted','novel and updates','somatic clinical impact values submitted',\n",
    "               'somatic oncogenicity values submitted'],inplace = True)\n",
    "\n",
    "organization_summary_df[\"clinical significance categories submitted\"] = organization_summary_df[\"clinical significance categories submitted\"].fillna(\"Not specified\")\n",
    "\n",
    "organization_summary_df.rename(columns={\n",
    "    '#organization': 'OrganizationName',\n",
    "    'organization ID': 'OrganizationID',\n",
    "    'institution type': 'InstitutionType',\n",
    "    'number of ClinVar submissions': 'NumberOfClinVarSubmissions',\n",
    "    'maximum review status': 'MaximumReviewStatus',\n",
    "    'collection methods': 'CollectionMethods',\n",
    "    'clinical significance categories submitted': 'ClinicalSignificanceCategoriesSubmitted',\n",
    "    'number of submissions from clinical testing': 'NumberOfSubmissionsFromClinicalTesting',\n",
    "    'number of submissions from research': 'NumberOfSubmissionsFromResearch',\n",
    "    'number of submissions from literature only': 'NumberOfSubmissionsFromLiteratureOnly',\n",
    "    'number of submissions from curation': 'NumberOfSubmissionsFromCuration',\n",
    "    'number of submissions from phenotyping': 'NumberOfSubmissionsFromPhenotyping'\n",
    "}, inplace=True)\n",
    "\n",
    "# Need to use var_citations_df because that has allele|variation to org_id"
   ]
  },
  {
   "cell_type": "code",
   "execution_count": 22,
   "metadata": {
    "execution": {
     "iopub.execute_input": "2025-07-25T10:25:02.872979Z",
     "iopub.status.busy": "2025-07-25T10:25:02.872703Z",
     "iopub.status.idle": "2025-07-25T10:25:07.683319Z",
     "shell.execute_reply": "2025-07-25T10:25:07.682465Z",
     "shell.execute_reply.started": "2025-07-25T10:25:02.872962Z"
    },
    "trusted": true
   },
   "outputs": [],
   "source": [
    "# separate file for submission_summary_df\n",
    "submission_summary_df.rename(columns = {\"#VariationID\":\"VariationID\"},inplace = True)\n",
    "\n",
    "submission_summary_df.drop(columns = ['SomaticClinicalImpact','Oncogenicity','DateLastEvaluated','SCV'],\n",
    "                          inplace = True)\n",
    "submission_summary_df[\"Description\"] = submission_summary_df[\"Description\"].fillna(\"Not Provided\")\n",
    "\n",
    "\n",
    "allowed_ids = set(allele_df['VariationID'])\n",
    "\n",
    "filtered_submission_summary = submission_summary_df[\n",
    "    submission_summary_df['VariationID'].isin(allowed_ids)\n",
    "]\n",
    "# Keys to merge on VariationID"
   ]
  },
  {
   "cell_type": "code",
   "execution_count": null,
   "metadata": {
    "execution": {
     "iopub.execute_input": "2025-07-25T10:25:07.684673Z",
     "iopub.status.busy": "2025-07-25T10:25:07.684357Z",
     "iopub.status.idle": "2025-07-25T10:25:10.248329Z",
     "shell.execute_reply": "2025-07-25T10:25:10.247088Z",
     "shell.execute_reply.started": "2025-07-25T10:25:07.684646Z"
    },
    "trusted": true
   },
   "outputs": [],
   "source": [
    "# separate file for conflict_submission_summary_df\n",
    "\n",
    "summary_of_conflicting_interpretations_df.drop(columns = ['#Gene_Symbol','Submitter1_SCV',\n",
    "                                      'Submitter2_SCV','Submitter1_LastEval','Submitter2_LastEval','Submitter1_Sub_Condition','Submitter2_Sub_Condition'],\n",
    "                          inplace = True)\n",
    "\n",
    "summary_of_conflicting_interpretations_df.rename(columns={\"NCBI_Variation_ID\": \"VariationID\"}, inplace=True)\n",
    "\n",
    "summary_of_conflicting_interpretations_df[\"Submitter1_Description\"] = summary_of_conflicting_interpretations_df[\"Submitter1_Description\"].fillna(\"Not provided\")\n",
    "summary_of_conflicting_interpretations_df[\"Submitter2_Description\"] = summary_of_conflicting_interpretations_df[\"Submitter2_Description\"].fillna(\"Not provided\")\n",
    "\n",
    "allowed_ids = set(allele_df['VariationID'])\n",
    "\n",
    "filtered_summary_of_conflicting_interpretations = summary_of_conflicting_interpretations_df[\n",
    "    summary_of_conflicting_interpretations_df['VariationID'].isin(allowed_ids)\n",
    "]\n",
    "# Keys to merge on VariationID"
   ]
  },
  {
   "cell_type": "code",
   "execution_count": 24,
   "metadata": {
    "execution": {
     "iopub.execute_input": "2025-07-25T10:25:10.249675Z",
     "iopub.status.busy": "2025-07-25T10:25:10.249353Z",
     "iopub.status.idle": "2025-07-25T10:25:11.841441Z",
     "shell.execute_reply": "2025-07-25T10:25:11.840474Z",
     "shell.execute_reply.started": "2025-07-25T10:25:10.249653Z"
    },
    "trusted": true
   },
   "outputs": [],
   "source": [
    "allowed_ids = set(allele_df['AlleleID'])\n",
    "\n",
    "filtered_cross_references = cross_references_df[\n",
    "    cross_references_df['#AlleleID'].isin(allowed_ids)\n",
    "]"
   ]
  },
  {
   "cell_type": "code",
   "execution_count": 25,
   "metadata": {
    "execution": {
     "iopub.execute_input": "2025-07-25T10:25:11.842878Z",
     "iopub.status.busy": "2025-07-25T10:25:11.842549Z",
     "iopub.status.idle": "2025-07-25T10:25:12.265906Z",
     "shell.execute_reply": "2025-07-25T10:25:12.264539Z",
     "shell.execute_reply.started": "2025-07-25T10:25:11.842852Z"
    },
    "trusted": true
   },
   "outputs": [],
   "source": [
    "final_fil.drop(columns = ['AF_EXAC','AF_TGP','AF_ESP'],inplace = True)"
   ]
  },
  {
   "cell_type": "code",
   "execution_count": 38,
   "metadata": {
    "execution": {
     "iopub.execute_input": "2025-07-25T11:26:24.971125Z",
     "iopub.status.busy": "2025-07-25T11:26:24.970809Z",
     "iopub.status.idle": "2025-07-25T11:30:30.899811Z",
     "shell.execute_reply": "2025-07-25T11:30:30.898994Z",
     "shell.execute_reply.started": "2025-07-25T11:26:24.971083Z"
    },
    "trusted": true
   },
   "outputs": [],
   "source": [
    "gene_df.to_csv(\"gene_df.tsv\",sep = \"\\t\",index=False )\n",
    "allele_df.to_csv(\"allele_df.tsv\",sep = \"\\t\",index=False )\n",
    "filtered_hgvs.to_csv(\"hgvs4variation_df.tsv\",sep = \"\\t\",index=False)\n",
    "organization_summary_df.to_csv(\"organization_summary_df_1.tsv\",sep = \"\\t\",index=False )\n",
    "filtered_submission_summary.to_csv(\"submission_summary_df.tsv\",sep = \"\\t\",index=False )\n",
    "filtered_summary_of_conflicting_interpretations.to_csv(\"summary_of_conflicting_interpretations_df.tsv\",sep = \"\\t\",index=False )\n",
    "filtered_var_citations.to_csv(\"var_citations_df.tsv\",sep = \"\\t\",index=False )\n",
    "filtered_cross_references.to_csv(\"cross_references_df.tsv\",sep = \"\\t\",index=False )\n",
    "final_fil.to_csv(\"Allelefreq_MC.tsv\",sep = \"\\t\")\n",
    "# for external dbs"
   ]
  },
  {
   "cell_type": "code",
   "execution_count": 39,
   "metadata": {
    "execution": {
     "iopub.execute_input": "2025-07-25T11:30:47.207703Z",
     "iopub.status.busy": "2025-07-25T11:30:47.207366Z",
     "iopub.status.idle": "2025-07-25T11:33:07.174137Z",
     "shell.execute_reply": "2025-07-25T11:33:07.171877Z",
     "shell.execute_reply.started": "2025-07-25T11:30:47.207678Z"
    },
    "trusted": true
   },
   "outputs": [
    {
     "name": "stderr",
     "output_type": "stream",
     "text": [
      "Zipping files: 100%|██████████| 9/9 [02:19<00:00, 15.55s/it]\n"
     ]
    }
   ],
   "source": [
    "import os\n",
    "import zipfile\n",
    "from tqdm import tqdm\n",
    "\n",
    "source_dir = \"/kaggle/working\"\n",
    "output_zip = \"/kaggle/working/final_dataset_all.zip\"\n",
    "\n",
    "# Collect all file paths\n",
    "file_paths = []\n",
    "for root, _, files in os.walk(source_dir):\n",
    "    for file in files:\n",
    "        full_path = os.path.join(root, file)\n",
    "        # Exclude the output zip itself if rerunning\n",
    "        if full_path != output_zip:\n",
    "            file_paths.append(full_path)\n",
    "\n",
    "# Create zip with progress bar\n",
    "with zipfile.ZipFile(output_zip, 'w', zipfile.ZIP_DEFLATED) as zipf:\n",
    "    for file in tqdm(file_paths, desc=\"Zipping files\"):\n",
    "        arcname = os.path.relpath(file, start=source_dir)\n",
    "        zipf.write(file, arcname)\n"
   ]
  },
  {
   "cell_type": "markdown",
   "metadata": {},
   "source": [
    "# Create SQL duckdb file"
   ]
  },
  {
   "cell_type": "code",
   "execution_count": null,
   "metadata": {},
   "outputs": [],
   "source": [
    "base_path = \"/kaggle/input/preprocessed-capstone-data-3/data\"\n",
    "\n",
    "gene_df = pd.read_csv(f\"{base_path}/gene_df.tsv\", sep=\"\\t\")\n",
    "allele_df = pd.read_csv(f\"{base_path}/allele_df.tsv\", sep=\"\\t\")\n",
    "hgvs4variation_df = pd.read_csv(f\"{base_path}/hgvs4variation_df.tsv\", sep=\"\\t\")\n",
    "cross_references_df = pd.read_csv(f\"{base_path}/cross_references_df.tsv\", sep=\"\\t\")\n",
    "organization_summary_df = pd.read_csv(f\"{base_path}/organization_summary_df_1.tsv\", sep=\"\\t\")\n",
    "submission_summary_df = pd.read_csv(f\"{base_path}/submission_summary_df.tsv\", sep=\"\\t\")\n",
    "summary_of_conflicting_interpretations_df = pd.read_csv(f\"{base_path}/summary_of_conflicting_interpretations_df.tsv\", sep=\"\\t\")\n",
    "var_citations_df = pd.read_csv(f\"{base_path}/var_citations_df.tsv\", sep=\"\\t\")"
   ]
  },
  {
   "cell_type": "code",
   "execution_count": null,
   "metadata": {},
   "outputs": [],
   "source": [
    "with duckdb.connect('Capstone_data.duckdb') as con:\n",
    "    con.execute(\"CREATE TABLE gene AS SELECT * FROM gene_df\")\n",
    "    con.execute(\"CREATE TABLE allele AS SELECT * FROM allele_df\")\n",
    "    con.execute(\"CREATE TABLE submission_summary AS SELECT * FROM submission_summary_df\")\n",
    "    con.execute(\"CREATE TABLE summary_of_conflicting_interpretations AS SELECT * FROM summary_of_conflicting_interpretations_df\")\n",
    "    con.execute(\"CREATE TABLE organization_summary AS SELECT * FROM organization_summary_df\")\n",
    "    con.execute(\"CREATE TABLE var_citations AS SELECT * FROM var_citations_df\")\n",
    "    con.execute(\"CREATE TABLE cross_references AS SELECT * FROM cross_references_df\")\n",
    "    con.execute(\"CREATE TABLE hgvs4variation AS SELECT * FROM hgvs4variation_df\")"
   ]
  },
  {
   "cell_type": "markdown",
   "metadata": {},
   "source": [
    "# Normalising some column names : "
   ]
  },
  {
   "cell_type": "code",
   "execution_count": null,
   "metadata": {},
   "outputs": [],
   "source": [
    "import duckdb,shutil,os"
   ]
  },
  {
   "cell_type": "code",
   "execution_count": null,
   "metadata": {},
   "outputs": [],
   "source": [
    "shutil.copy(\"/kaggle/input/capstone-sql-db/Capstone_data (1).duckdb\", \"/kaggle/working/Capstone_data_1.duckdb\")\n",
    "\n",
    "# Connect to the copied file\n",
    "con = duckdb.connect(\"/kaggle/working/Capstone_data_1.duckdb\")"
   ]
  },
  {
   "cell_type": "code",
   "execution_count": null,
   "metadata": {},
   "outputs": [],
   "source": [
    "result = con.execute(\"SHOW TABLES;\").fetchall()\n",
    "\n",
    "for table in result:\n",
    "    table_name = table[0]\n",
    "    print(f\"\\nTable: {table_name}\")\n",
    "    columns = con.execute(f\"DESCRIBE {table_name}\").fetchall()\n",
    "    for col in columns:\n",
    "        print(col[0])\n"
   ]
  },
  {
   "cell_type": "code",
   "execution_count": null,
   "metadata": {},
   "outputs": [],
   "source": [
    "queries = [\n",
    "    # Drop Unnamed: 0 from allele\n",
    "    'ALTER TABLE allele DROP COLUMN \"Unnamed: 0\";',\n",
    "\n",
    "    # allele columns\n",
    "    'ALTER TABLE allele RENAME COLUMN \"RCVaccession\" TO RCVAccession;',\n",
    "\n",
    "    # cross_references columns\n",
    "    'ALTER TABLE cross_references RENAME COLUMN \"#AlleleID\" TO AlleleID;',\n",
    "    'ALTER TABLE cross_references RENAME COLUMN \"last_updated\" TO LastUpdated;',\n",
    "\n",
    "\n",
    "\n",
    "    # summary_of_conflicting_interpretations columns\n",
    "    'ALTER TABLE summary_of_conflicting_interpretations RENAME COLUMN \"ClinVar_Preferred\" TO ClinvarPreferred;',\n",
    "    'ALTER TABLE summary_of_conflicting_interpretations RENAME COLUMN \"Submitter1_ClinSig\" TO Submitter1Clinsig;',\n",
    "    'ALTER TABLE summary_of_conflicting_interpretations RENAME COLUMN \"Submitter1_ReviewStatus\" TO Submitter1Reviewstatus;',\n",
    "    'ALTER TABLE summary_of_conflicting_interpretations RENAME COLUMN \"Submitter1_Description\" TO Submitter1Description;',\n",
    "    'ALTER TABLE summary_of_conflicting_interpretations RENAME COLUMN \"Submitter2_ClinSig\" TO Submitter2Clinsig;',\n",
    "    'ALTER TABLE summary_of_conflicting_interpretations RENAME COLUMN \"Submitter2_ReviewStatus\" TO Submitter2Reviewstatus;',\n",
    "    'ALTER TABLE summary_of_conflicting_interpretations RENAME COLUMN \"Submitter2_Description\" TO Submitter2Description;',\n",
    "    'ALTER TABLE summary_of_conflicting_interpretations RENAME COLUMN \"Rank_diff\" TO RankDiff;',\n",
    "    'ALTER TABLE summary_of_conflicting_interpretations RENAME COLUMN \"Conflict_Reported\" TO ConflictReported;',\n",
    "    'ALTER TABLE summary_of_conflicting_interpretations RENAME COLUMN \"Variant_type\" TO VariantType;',\n",
    "    'ALTER TABLE summary_of_conflicting_interpretations RENAME COLUMN \"Submitter1_Method\" TO Submitter1Method;',\n",
    "    'ALTER TABLE summary_of_conflicting_interpretations RENAME COLUMN \"Submitter2_Method\" TO Submitter2Method;',\n",
    "\n",
    "    # var_citations columns\n",
    "    'ALTER TABLE var_citations DROP COLUMN \"rs\"',\n",
    "    'ALTER TABLE var_citations RENAME COLUMN \"citation_source\" TO CitationSource;',\n",
    "    'ALTER TABLE var_citations RENAME COLUMN \"citation_id\" TO CitationID;',\n",
    "    'ALTER TABLE var_citations RENAME COLUMN \"organization_ids\" TO OrganizationID;',\n",
    "]\n",
    "\n",
    "for q in queries:\n",
    "    con.execute(q)\n"
   ]
  },
  {
   "cell_type": "code",
   "execution_count": null,
   "metadata": {},
   "outputs": [],
   "source": [
    "con.close()"
   ]
  }
 ],
 "metadata": {
  "kaggle": {
   "accelerator": "none",
   "dataSources": [
    {
     "datasetId": 6875585,
     "sourceId": 11038544,
     "sourceType": "datasetVersion"
    }
   ],
   "dockerImageVersionId": 31089,
   "isGpuEnabled": false,
   "isInternetEnabled": true,
   "language": "python",
   "sourceType": "notebook"
  },
  "kernelspec": {
   "display_name": "Python 3",
   "language": "python",
   "name": "python3"
  },
  "language_info": {
   "codemirror_mode": {
    "name": "ipython",
    "version": 3
   },
   "file_extension": ".py",
   "mimetype": "text/x-python",
   "name": "python",
   "nbconvert_exporter": "python",
   "pygments_lexer": "ipython3",
   "version": "3.11.13"
  }
 },
 "nbformat": 4,
 "nbformat_minor": 4
}
