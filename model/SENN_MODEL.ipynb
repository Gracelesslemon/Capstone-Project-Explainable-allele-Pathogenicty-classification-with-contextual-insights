{
 "cells": [
  {
   "cell_type": "code",
   "execution_count": null,
   "id": "8165afae",
   "metadata": {},
   "outputs": [],
   "source": [
    "import duckdb\n",
    "import numpy as np\n",
    "import pandas as pd\n",
    "from tqdm import tqdm"
   ]
  },
  {
   "cell_type": "code",
   "execution_count": null,
   "id": "df805987",
   "metadata": {},
   "outputs": [],
   "source": [
    "pd.set_option('display.max_colwidth', None)  \n",
    "pd.set_option('display.expand_frame_repr', False)  \n",
    "pd.set_option('display.max_columns', None)"
   ]
  },
  {
   "cell_type": "code",
   "execution_count": null,
   "id": "a2c124ae",
   "metadata": {},
   "outputs": [],
   "source": [
    "con = duckdb.connect(r\"C:\\Users\\vigne\\Desktop\\Capstone\\datasets\\model_train_data.duckdb\")\n",
    "adf=con.execute(\"select * from allele\").fetch_df()\n",
    "con.close()"
   ]
  },
  {
   "cell_type": "markdown",
   "id": "8c52eb81",
   "metadata": {},
   "source": [
    "# Majority Undersampling\n",
    "- We have way more benign comapared to pathogenic. \n",
    "- undersampling benign"
   ]
  },
  {
   "cell_type": "code",
   "execution_count": null,
   "id": "84c779d7",
   "metadata": {},
   "outputs": [],
   "source": [
    "# Balance classes first\n",
    "pathogenic_df = adf[adf['ClinicalSignificance'] == 1]\n",
    "benign_df = adf[adf['ClinicalSignificance'] == 0]\n",
    "benign_sampled = benign_df.sample(n=len(pathogenic_df), random_state=42)\n",
    "balanced_df = pd.concat([pathogenic_df, benign_sampled])"
   ]
  },
  {
   "cell_type": "code",
   "execution_count": null,
   "id": "52ec7801",
   "metadata": {},
   "outputs": [],
   "source": [
    "# Features (exclude IDs and target)\n",
    "feature_cols_allele = [col for col in balanced_df.columns if col not in ['AlleleID', 'ClinicalSignificance','GeneID']]\n",
    "\n",
    "X = balanced_df[feature_cols_allele]\n",
    "y = balanced_df['ClinicalSignificance']\n",
    "\n",
    "# Split: 70% train, 15% validation, 15% test\n",
    "trainx, X_temp, trainy, y_temp = train_test_split(X, y, test_size=0.3, random_state=42, stratify=y)\n",
    "valx, testx, valy, testy = train_test_split(X_temp, y_temp, test_size=0.5, random_state=42, stratify=y_temp)"
   ]
  }
 ],
 "metadata": {
  "language_info": {
   "name": "python"
  }
 },
 "nbformat": 4,
 "nbformat_minor": 5
}
